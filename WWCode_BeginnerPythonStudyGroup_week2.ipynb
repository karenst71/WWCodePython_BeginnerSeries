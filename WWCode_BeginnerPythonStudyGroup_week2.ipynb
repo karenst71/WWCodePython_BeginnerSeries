{
  "nbformat": 4,
  "nbformat_minor": 0,
  "metadata": {
    "colab": {
      "name": "WWCode_BeginnerPythonStudyGroup_week2.ipynb",
      "provenance": [],
      "collapsed_sections": [
        "gJ_mzgrzYDm_"
      ]
    },
    "kernelspec": {
      "name": "python3",
      "display_name": "Python 3"
    }
  },
  "cells": [
    {
      "cell_type": "markdown",
      "metadata": {
        "id": "o9vi3S_U3qqV",
        "colab_type": "text"
      },
      "source": [
        "# __WWCode Beginner Python Study Group Session 2__ \n",
        "\n"
      ]
    },
    {
      "cell_type": "markdown",
      "metadata": {
        "id": "E5P-aLes6AhK",
        "colab_type": "text"
      },
      "source": [
        "\n",
        "# __Python Libraries -- Install and Import__\n",
        "\n",
        "Like the meaning of the word _library_, a Python library / package is a collection of _functions_ that can be imported to execute.\n",
        "\n",
        "Just picture you need a piece of context from a book to solve a problem. Importing a function from a Python library is just like that, except you don't need to spend time finding the book and flipping the pages!  \n",
        "\n",
        "Installing and importing a Python library seems like it should be a piece of cake, but it can get us super frustrated when it does not work. To eliminate our frustration, today we will learn how to properly install a library, along with some useful tips and tricks.\n",
        "\n",
        "\n",
        "\n",
        "![ChessUrl](http://cecilialiao.com/wp-content/uploads/2015/06/mlwdc.jpg 'library')\n",
        "\n",
        "\n",
        "\n"
      ]
    },
    {
      "cell_type": "markdown",
      "metadata": {
        "id": "3Vn-cDfXya8N",
        "colab_type": "text"
      },
      "source": [
        "## Agenda\n",
        " \n",
        "* [pip install](#pip-install)  \n",
        "  * what is pip install?\n",
        "  * how exactly can I install a library on my computer?\n",
        "* [How to use library](#how-to-use-a-python-library)\n",
        "  * importing a library\n",
        "  * check version\n",
        "  * understand library structure\n",
        "  * _help_ function\n"
      ]
    },
    {
      "cell_type": "markdown",
      "metadata": {
        "id": "IGw3zYtIYACS",
        "colab_type": "text"
      },
      "source": [
        "## pip install"
      ]
    },
    {
      "cell_type": "markdown",
      "metadata": {
        "id": "7SstqGjx-R6i",
        "colab_type": "text"
      },
      "source": [
        "\n",
        "\n",
        "### What is _pip install_?  \n",
        "_pip_ is a package manager (also a package itself), which helps you to install a Python package from PyPI (Python Package Index). It is one of the default packages included when you install Python.  \n",
        "\n",
        "`pip install <library name>`  \n",
        "`pip` - used a variable to call out the pip library   \n",
        "`install` - a command from the pip library  \n",
        "\n",
        "\n",
        "Documentation: https://pip.pypa.io/en/stable/reference/pip_install/\n",
        "\n",
        "\n"
      ]
    },
    {
      "cell_type": "code",
      "metadata": {
        "id": "LgMrmkVN9jIx",
        "colab_type": "code",
        "colab": {}
      },
      "source": [
        "# install library pandas\n"
      ],
      "execution_count": null,
      "outputs": []
    },
    {
      "cell_type": "code",
      "metadata": {
        "id": "OnCORRZhHgV3",
        "colab_type": "code",
        "colab": {}
      },
      "source": [
        "# install library difflib\n"
      ],
      "execution_count": null,
      "outputs": []
    },
    {
      "cell_type": "code",
      "metadata": {
        "id": "bm6rFAmnHjWk",
        "colab_type": "code",
        "colab": {}
      },
      "source": [
        "# uninstall the library\n"
      ],
      "execution_count": null,
      "outputs": []
    },
    {
      "cell_type": "markdown",
      "metadata": {
        "id": "gJ_mzgrzYDm_",
        "colab_type": "text"
      },
      "source": [
        "### How exactly can I install a library on my computer?  \n",
        "\n",
        "We usually do not install libraries on our code editor (like colab notebook). To install a Python library, we will do so via the computer's terminal. Below is one of several ways to install a library:\n",
        "\n",
        "Steps to Install a Python library:\n",
        "1. ensure Python is installed on your computer\n",
        "2. ensure Python programme path is inside your computer's environment variables  \n",
        "3. open terminal\n",
        "4. type `pip install <library name>` or `python -m pip install <library name>`    "
      ]
    },
    {
      "cell_type": "markdown",
      "metadata": {
        "id": "nNc_LXqZTRk2",
        "colab_type": "text"
      },
      "source": [
        "![ChessUrl](https://media.giphy.com/media/kaq6GnxDlJaBq/giphy.gif)  \n",
        "_Super confused on the instructions? Let's try it out together!_"
      ]
    },
    {
      "cell_type": "markdown",
      "metadata": {
        "id": "MQxDp5GtA5wr",
        "colab_type": "text"
      },
      "source": [
        "### python library -- check version  \n",
        "\n",
        "Python libraries often release new versions to improve the completion of the library by adding new functions or revising certain functions. We usually install the latest version of a function. Sometimes certain functions are removed on the newest version, and it may affect our script. Also, some open source libraries require a specific version of a library to ensure a specific function can be used.\n"
      ]
    },
    {
      "cell_type": "code",
      "metadata": {
        "id": "6gRUUOS7BNXr",
        "colab_type": "code",
        "colab": {}
      },
      "source": [
        "# check numpy version\n"
      ],
      "execution_count": null,
      "outputs": []
    },
    {
      "cell_type": "code",
      "metadata": {
        "id": "umd6uxgWug0M",
        "colab_type": "code",
        "colab": {}
      },
      "source": [
        "# install library with specific version\n"
      ],
      "execution_count": null,
      "outputs": []
    },
    {
      "cell_type": "markdown",
      "metadata": {
        "id": "GNm5AiC0rThd",
        "colab_type": "text"
      },
      "source": [
        "### Dependencies between Python libraries \n",
        "\n",
        "The purpose of a Python library is to simplify the process, especially repetitive ones. Most libraries are built on top of the same basic libraries. In fact, there is usually a dependency between libraries. \n",
        "\n",
        "Some libraries even rely on a specific version of the primary library.\n",
        "\n",
        "Therefore, sometimes when you install a library, you might be required to install a certain basic one first and pay a little more attention on the library version. \n",
        "\n"
      ]
    },
    {
      "cell_type": "markdown",
      "metadata": {
        "id": "eUb7-Tfz_UmX",
        "colab_type": "text"
      },
      "source": [
        "## How to Use a Python Library\n",
        "\n",
        "\n",
        "\n",
        " "
      ]
    },
    {
      "cell_type": "markdown",
      "metadata": {
        "id": "XjL683VhucHW",
        "colab_type": "text"
      },
      "source": [
        "### python library -- importing library  \n",
        "\n",
        "Importing a library is a very straight forward process. Knowing how to name the library and import specific functions will save you lots of time and minimize typos, especially if you have a long script."
      ]
    },
    {
      "cell_type": "code",
      "metadata": {
        "id": "v-qas-_S_f8R",
        "colab_type": "code",
        "colab": {}
      },
      "source": [
        "# import numpy library and name it as 'np'\n"
      ],
      "execution_count": null,
      "outputs": []
    },
    {
      "cell_type": "code",
      "metadata": {
        "id": "fnfdfQELQoSl",
        "colab_type": "code",
        "colab": {}
      },
      "source": [
        "# import module 'random' from numpy library and name it as 'nprandom'\n"
      ],
      "execution_count": null,
      "outputs": []
    },
    {
      "cell_type": "markdown",
      "metadata": {
        "id": "0dBwRkWhCdH3",
        "colab_type": "text"
      },
      "source": [
        "### python library -- help function\n",
        "\n",
        "No one will know every single function, every single library existing out there and remember what they do.\n",
        "\n",
        "_help()_ function is the fastest way to find all the functions in a Python library other than searching on the internet."
      ]
    },
    {
      "cell_type": "code",
      "metadata": {
        "id": "pBMrRiiXCmkr",
        "colab_type": "code",
        "colab": {}
      },
      "source": [
        "# use help() function to check required parameters for read_csv function from pandas\n"
      ],
      "execution_count": null,
      "outputs": []
    },
    {
      "cell_type": "markdown",
      "metadata": {
        "id": "KtaYs7BOV87Y",
        "colab_type": "text"
      },
      "source": [
        "## Mini Exercise   \n",
        "Now that we have learned some basic concepts of a Python library, let's do a mini exercise, and review what we have learned so far!"
      ]
    },
    {
      "cell_type": "code",
      "metadata": {
        "id": "RfEr-SBdO8bj",
        "colab_type": "code",
        "colab": {}
      },
      "source": [
        "# import datetime module from datetime function\n",
        "\n",
        "\n",
        "# display current date and time\n",
        "\n",
        "\n",
        "# display the day of today \n",
        "\n",
        "\n",
        "# display current time in 12 hours format\n"
      ],
      "execution_count": null,
      "outputs": []
    },
    {
      "cell_type": "markdown",
      "metadata": {
        "id": "Bz4hj2xSAWoK",
        "colab_type": "text"
      },
      "source": [
        "## Further Readings for This Session\n",
        " \n",
        "[How to Install a Package in Python using PIP](https://datatofish.com/install-package-python-using-pip/)   \n",
        "[Check the version of Python package / library](https://note.nkmk.me/en/python-package-version/)  \n",
        "[Python Modules](https://docs.python.org/3/tutorial/modules.html)\n"
      ]
    }
  ]
}